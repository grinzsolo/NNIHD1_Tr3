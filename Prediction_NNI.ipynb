{
 "cells": [
  {
   "cell_type": "code",
   "execution_count": 5,
   "metadata": {
    "Collapsed": "false"
   },
   "outputs": [
    {
     "name": "stdout",
     "output_type": "stream",
     "text": [
      "Best Parameters: {'learning_rate': 0.05, 'max_depth': 3, 'n_estimators': 200, 'subsample': 0.8}\n",
      "Root Mean Squared Error (RMSE): 5.463004532205324\n",
      "R² Score: 0.9887963757674327\n"
     ]
    }
   ],
   "source": [
    "import pandas as pd\n",
    "from sklearn.model_selection import train_test_split, GridSearchCV\n",
    "from sklearn.ensemble import GradientBoostingRegressor\n",
    "from sklearn.preprocessing import StandardScaler\n",
    "from sklearn.metrics import mean_squared_error, r2_score\n",
    "import numpy as np\n",
    "\n",
    "# โหลดข้อมูล\n",
    "df = pd.read_excel(\"PYTHON_NNI.xlsx\") \n",
    "\n",
    "# นิยาม feature และ target\n",
    "X = df[[\"LC\", \"MFR_S205\", \"MFR_S206\", \"MFR_S402C\"]]\n",
    "y = df[\"NNI\"]\n",
    "\n",
    "# แบ่งข้อมูล\n",
    "X_train, X_test, y_train, y_test = train_test_split(X, y, test_size=0.2, random_state=42)\n",
    "\n",
    "# ทำ normalization\n",
    "scaler = StandardScaler()\n",
    "X_train_scaled = scaler.fit_transform(X_train)\n",
    "X_test_scaled = scaler.transform(X_test)\n",
    "\n",
    "# สร้าง Gradient Boosting Model\n",
    "gbr = GradientBoostingRegressor(random_state=42)\n",
    "\n",
    "# กำหนดช่วงค่าที่ต้องการ tuning\n",
    "param_grid = {\n",
    "    'n_estimators': [100, 200],\n",
    "    'learning_rate': [0.05, 0.1, 0.2],\n",
    "    'max_depth': [3, 4, 5],\n",
    "    'subsample': [0.8, 1.0]\n",
    "}\n",
    "\n",
    "# ทำ Grid Search\n",
    "grid_search = GridSearchCV(estimator=gbr, param_grid=param_grid, cv=5, scoring='r2', n_jobs=-1)\n",
    "grid_search.fit(X_train_scaled, y_train)\n",
    "\n",
    "# ใช้โมเดลที่ดีที่สุดมาทำนาย\n",
    "best_model = grid_search.best_estimator_\n",
    "y_pred = best_model.predict(X_test_scaled)\n",
    "\n",
    "# ประเมินผล\n",
    "rmse = np.sqrt(mean_squared_error(y_test, y_pred))\n",
    "r2 = r2_score(y_test, y_pred)\n",
    "\n",
    "# แสดงผล\n",
    "print(\"Best Parameters:\", grid_search.best_params_)\n",
    "print(\"Root Mean Squared Error (RMSE):\", rmse)\n",
    "print(\"R² Score:\", r2)\n"
   ]
  },
  {
   "cell_type": "code",
   "execution_count": 6,
   "metadata": {},
   "outputs": [
    {
     "name": "stdout",
     "output_type": "stream",
     "text": [
      "✅ CSV ถูกบันทึกเรียบร้อยแล้ว\n"
     ]
    }
   ],
   "source": [
    "# รวมผลลัพธ์ลงใน DataFrame\n",
    "results = X_test.copy()\n",
    "results[\"Actual_NNI\"] = y_test.values\n",
    "results[\"Predicted_NNI\"] = y_pred\n",
    "\n",
    "# Export เป็น CSV เพื่อดู Accuracy\n",
    "output_path = r\"C:\\Users\\26009648\\Desktop\\NNI Line\\NNI_Prediction_Results.csv\"\n",
    "results.to_csv(output_path, index=False)\n",
    "\n",
    "print(\"✅ CSV ถูกบันทึกเรียบร้อยแล้ว\")\n"
   ]
  },
  {
   "cell_type": "code",
   "execution_count": null,
   "metadata": {},
   "outputs": [
    {
     "name": "stdout",
     "output_type": "stream",
     "text": [
      "✅ โมเดลและ scaler ถูกบันทึกเรียบร้อยแล้ว\n"
     ]
    }
   ],
   "source": [
    "import joblib\n",
    "\n",
    "# บันทึกโมเดลและตัวแปลง scaler ลงเป็น .pkl\n",
    "joblib.dump(best_model, r\"C:\\Users\\26009648\\Desktop\\NNI Line\\best_model.pkl\")\n",
    "joblib.dump(scaler, r\"C:\\Users\\26009648\\Desktop\\NNI Line\\scaler.pkl\")\n",
    "\n",
    "print(\"✅ โมเดลและ scaler ถูกบันทึกเรียบร้อยแล้ว\")"
   ]
  }
 ],
 "metadata": {
  "kernelspec": {
   "display_name": "Python 3",
   "language": "python",
   "name": "python3"
  },
  "language_info": {
   "codemirror_mode": {
    "name": "ipython",
    "version": 3
   },
   "file_extension": ".py",
   "mimetype": "text/x-python",
   "name": "python",
   "nbconvert_exporter": "python",
   "pygments_lexer": "ipython3",
   "version": "3.12.3"
  }
 },
 "nbformat": 4,
 "nbformat_minor": 4
}
